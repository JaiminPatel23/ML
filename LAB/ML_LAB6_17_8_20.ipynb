{
  "nbformat": 4,
  "nbformat_minor": 0,
  "metadata": {
    "colab": {
      "name": "ML_LAB6_17-8-20.ipynb",
      "provenance": [],
      "collapsed_sections": [],
      "authorship_tag": "ABX9TyNpViUBDCjnxZV+bzF7KdN8",
      "include_colab_link": true
    },
    "kernelspec": {
      "name": "python3",
      "display_name": "Python 3"
    },
    "accelerator": "GPU"
  },
  "cells": [
    {
      "cell_type": "markdown",
      "metadata": {
        "id": "view-in-github",
        "colab_type": "text"
      },
      "source": [
        "<a href=\"https://colab.research.google.com/github/JaiminPatel23/ML/blob/master/LAB/ML_LAB6_17_8_20.ipynb\" target=\"_parent\"><img src=\"https://colab.research.google.com/assets/colab-badge.svg\" alt=\"Open In Colab\"/></a>"
      ]
    },
    {
      "cell_type": "markdown",
      "metadata": {
        "id": "34168F_EmCf2",
        "colab_type": "text"
      },
      "source": [
        "**EXPERIMENT 6**"
      ]
    },
    {
      "cell_type": "markdown",
      "metadata": {
        "id": "JYqg0luwmKBZ",
        "colab_type": "text"
      },
      "source": [
        "**TO PERFORM CLASSIFICATION ON BITCOIN 2011 DATASET**"
      ]
    },
    {
      "cell_type": "markdown",
      "metadata": {
        "id": "FVmrYjtpnMs5",
        "colab_type": "text"
      },
      "source": [
        "Dataset:\n",
        "\n",
        "!wget -O 2011gcn.csv https://raw.githubusercontent.com/pranavn91/blockchain/master/2011gcn.csv\n",
        "\n",
        "!wget -O tx2011partvertices_new.csv https://raw.githubusercontent.com/pranavn91/blockchain/master/tx2011partvertices_new.csv\n",
        "\n",
        "!wget -O tx2011partvertices.csv https://raw.githubusercontent.com/pranavn91/blockchain/master/tx2011partvertices.csv"
      ]
    },
    {
      "cell_type": "markdown",
      "metadata": {
        "id": "n8NuIBywnWk3",
        "colab_type": "text"
      },
      "source": [
        "**Select correct architecture for +75% accuracy on cross validation and test set for bitcoin 2011 dataset - 60%-20%-20% (Train-Crossval-Test split)**"
      ]
    },
    {
      "cell_type": "code",
      "metadata": {
        "id": "pCI3blFBzKeY",
        "colab_type": "code",
        "colab": {
          "base_uri": "https://localhost:8080/",
          "height": 70
        },
        "outputId": "8ea62efc-7cfa-40c3-8626-7b4597a7ac40"
      },
      "source": [
        "import numpy as np\n",
        "import pandas as pd\n",
        "\n",
        "import matplotlib.pyplot as plt\n",
        "import seaborn as sns\n",
        "\n",
        "from sklearn.model_selection import train_test_split, cross_val_score\n",
        "from sklearn.preprocessing import StandardScaler"
      ],
      "execution_count": 1,
      "outputs": [
        {
          "output_type": "stream",
          "text": [
            "/usr/local/lib/python3.6/dist-packages/statsmodels/tools/_testing.py:19: FutureWarning: pandas.util.testing is deprecated. Use the functions in the public API at pandas.testing instead.\n",
            "  import pandas.util.testing as tm\n"
          ],
          "name": "stderr"
        }
      ]
    },
    {
      "cell_type": "code",
      "metadata": {
        "id": "ptP45EdinfvT",
        "colab_type": "code",
        "colab": {
          "base_uri": "https://localhost:8080/",
          "height": 571
        },
        "outputId": "0405fb3d-8012-4dd6-e495-ff4c67b9ea1b"
      },
      "source": [
        "!wget -O 2011gcn.csv https://raw.githubusercontent.com/pranavn91/blockchain/master/2011gcn.csv\n",
        "!wget -O tx2011partvertices_new.csv https://raw.githubusercontent.com/pranavn91/blockchain/master/tx2011partvertices_new.csv\n",
        "!wget -O tx2011partvertices.csv https://raw.githubusercontent.com/pranavn91/blockchain/master/tx2011partvertices.csv\n",
        " \n",
        "train1 = pd.read_csv('2011gcn.csv')\n",
        "train2 = pd.read_csv('tx2011partvertices_new.csv')\n",
        "train3 = pd.read_csv('tx2011partvertices.csv')"
      ],
      "execution_count": 2,
      "outputs": [
        {
          "output_type": "stream",
          "text": [
            "--2020-09-19 09:33:18--  https://raw.githubusercontent.com/pranavn91/blockchain/master/2011gcn.csv\n",
            "Resolving raw.githubusercontent.com (raw.githubusercontent.com)... 151.101.0.133, 151.101.64.133, 151.101.128.133, ...\n",
            "Connecting to raw.githubusercontent.com (raw.githubusercontent.com)|151.101.0.133|:443... connected.\n",
            "HTTP request sent, awaiting response... 200 OK\n",
            "Length: 12563086 (12M) [text/plain]\n",
            "Saving to: ‘2011gcn.csv’\n",
            "\n",
            "2011gcn.csv         100%[===================>]  11.98M  46.4MB/s    in 0.3s    \n",
            "\n",
            "2020-09-19 09:33:19 (46.4 MB/s) - ‘2011gcn.csv’ saved [12563086/12563086]\n",
            "\n",
            "--2020-09-19 09:33:19--  https://raw.githubusercontent.com/pranavn91/blockchain/master/tx2011partvertices_new.csv\n",
            "Resolving raw.githubusercontent.com (raw.githubusercontent.com)... 151.101.0.133, 151.101.64.133, 151.101.128.133, ...\n",
            "Connecting to raw.githubusercontent.com (raw.githubusercontent.com)|151.101.0.133|:443... connected.\n",
            "HTTP request sent, awaiting response... 200 OK\n",
            "Length: 12501458 (12M) [text/plain]\n",
            "Saving to: ‘tx2011partvertices_new.csv’\n",
            "\n",
            "tx2011partvertices_ 100%[===================>]  11.92M  48.2MB/s    in 0.2s    \n",
            "\n",
            "2020-09-19 09:33:20 (48.2 MB/s) - ‘tx2011partvertices_new.csv’ saved [12501458/12501458]\n",
            "\n",
            "--2020-09-19 09:33:20--  https://raw.githubusercontent.com/pranavn91/blockchain/master/tx2011partvertices.csv\n",
            "Resolving raw.githubusercontent.com (raw.githubusercontent.com)... 151.101.0.133, 151.101.64.133, 151.101.128.133, ...\n",
            "Connecting to raw.githubusercontent.com (raw.githubusercontent.com)|151.101.0.133|:443... connected.\n",
            "HTTP request sent, awaiting response... 200 OK\n",
            "Length: 1934257 (1.8M) [text/plain]\n",
            "Saving to: ‘tx2011partvertices.csv’\n",
            "\n",
            "tx2011partvertices. 100%[===================>]   1.84M  --.-KB/s    in 0.05s   \n",
            "\n",
            "2020-09-19 09:33:20 (39.8 MB/s) - ‘tx2011partvertices.csv’ saved [1934257/1934257]\n",
            "\n"
          ],
          "name": "stdout"
        }
      ]
    },
    {
      "cell_type": "code",
      "metadata": {
        "id": "3zfPsNVcnppI",
        "colab_type": "code",
        "colab": {
          "base_uri": "https://localhost:8080/",
          "height": 67
        },
        "outputId": "13ccebbb-457a-468d-ee2f-f9e5a010460f"
      },
      "source": [
        "print('Train 1 Shape: ', train1.shape)\n",
        "print('Train 2 Shape: ', train2.shape)\n",
        "print('Train 3 Shape: ', train3.shape)"
      ],
      "execution_count": 3,
      "outputs": [
        {
          "output_type": "stream",
          "text": [
            "Train 1 Shape:  (96498, 17)\n",
            "Train 2 Shape:  (96498, 20)\n",
            "Train 3 Shape:  (96498, 2)\n"
          ],
          "name": "stdout"
        }
      ]
    },
    {
      "cell_type": "code",
      "metadata": {
        "id": "oNut22K4n12e",
        "colab_type": "code",
        "colab": {
          "base_uri": "https://localhost:8080/",
          "height": 420
        },
        "outputId": "79d3344a-d692-41d4-fcb2-54262e3bf66f"
      },
      "source": [
        "train1.info()"
      ],
      "execution_count": 4,
      "outputs": [
        {
          "output_type": "stream",
          "text": [
            "<class 'pandas.core.frame.DataFrame'>\n",
            "RangeIndex: 96498 entries, 0 to 96497\n",
            "Data columns (total 17 columns):\n",
            " #   Column      Non-Null Count  Dtype  \n",
            "---  ------      --------------  -----  \n",
            " 0   Unnamed: 0  96498 non-null  int64  \n",
            " 1   0           96498 non-null  float64\n",
            " 2   1           96498 non-null  float64\n",
            " 3   2           96498 non-null  float64\n",
            " 4   3           96498 non-null  float64\n",
            " 5   4           96498 non-null  float64\n",
            " 6   5           96498 non-null  float64\n",
            " 7   6           96498 non-null  float64\n",
            " 8   7           96498 non-null  float64\n",
            " 9   8           96498 non-null  float64\n",
            " 10  9           96498 non-null  float64\n",
            " 11  10          96498 non-null  float64\n",
            " 12  11          96498 non-null  float64\n",
            " 13  12          96498 non-null  float64\n",
            " 14  13          96498 non-null  float64\n",
            " 15  14          96498 non-null  float64\n",
            " 16  15          96498 non-null  float64\n",
            "dtypes: float64(16), int64(1)\n",
            "memory usage: 12.5 MB\n"
          ],
          "name": "stdout"
        }
      ]
    },
    {
      "cell_type": "code",
      "metadata": {
        "id": "hw6TsViRoDp9",
        "colab_type": "code",
        "colab": {
          "base_uri": "https://localhost:8080/",
          "height": 195
        },
        "outputId": "c8c82628-1aa6-48ef-b7cb-9411efd55caa"
      },
      "source": [
        "train1.head()"
      ],
      "execution_count": 5,
      "outputs": [
        {
          "output_type": "execute_result",
          "data": {
            "text/html": [
              "<div>\n",
              "<style scoped>\n",
              "    .dataframe tbody tr th:only-of-type {\n",
              "        vertical-align: middle;\n",
              "    }\n",
              "\n",
              "    .dataframe tbody tr th {\n",
              "        vertical-align: top;\n",
              "    }\n",
              "\n",
              "    .dataframe thead th {\n",
              "        text-align: right;\n",
              "    }\n",
              "</style>\n",
              "<table border=\"1\" class=\"dataframe\">\n",
              "  <thead>\n",
              "    <tr style=\"text-align: right;\">\n",
              "      <th></th>\n",
              "      <th>Unnamed: 0</th>\n",
              "      <th>0</th>\n",
              "      <th>1</th>\n",
              "      <th>2</th>\n",
              "      <th>3</th>\n",
              "      <th>4</th>\n",
              "      <th>5</th>\n",
              "      <th>6</th>\n",
              "      <th>7</th>\n",
              "      <th>8</th>\n",
              "      <th>9</th>\n",
              "      <th>10</th>\n",
              "      <th>11</th>\n",
              "      <th>12</th>\n",
              "      <th>13</th>\n",
              "      <th>14</th>\n",
              "      <th>15</th>\n",
              "    </tr>\n",
              "  </thead>\n",
              "  <tbody>\n",
              "    <tr>\n",
              "      <th>0</th>\n",
              "      <td>0</td>\n",
              "      <td>0.0</td>\n",
              "      <td>4.811244e+07</td>\n",
              "      <td>0.0</td>\n",
              "      <td>0.0</td>\n",
              "      <td>5.298934e+07</td>\n",
              "      <td>0.0</td>\n",
              "      <td>5.215435e+07</td>\n",
              "      <td>0.0</td>\n",
              "      <td>0.0</td>\n",
              "      <td>4.293262e+05</td>\n",
              "      <td>3.994267e+07</td>\n",
              "      <td>6.251989e+07</td>\n",
              "      <td>0.0</td>\n",
              "      <td>0.0</td>\n",
              "      <td>2.670458e+07</td>\n",
              "      <td>8.313858e+07</td>\n",
              "    </tr>\n",
              "    <tr>\n",
              "      <th>1</th>\n",
              "      <td>1</td>\n",
              "      <td>0.0</td>\n",
              "      <td>3.477977e+05</td>\n",
              "      <td>0.0</td>\n",
              "      <td>0.0</td>\n",
              "      <td>3.777575e+05</td>\n",
              "      <td>0.0</td>\n",
              "      <td>3.757520e+05</td>\n",
              "      <td>0.0</td>\n",
              "      <td>0.0</td>\n",
              "      <td>6.889133e+03</td>\n",
              "      <td>3.001618e+05</td>\n",
              "      <td>4.527358e+05</td>\n",
              "      <td>0.0</td>\n",
              "      <td>0.0</td>\n",
              "      <td>1.915057e+05</td>\n",
              "      <td>6.009039e+05</td>\n",
              "    </tr>\n",
              "    <tr>\n",
              "      <th>2</th>\n",
              "      <td>2</td>\n",
              "      <td>0.0</td>\n",
              "      <td>6.455196e+07</td>\n",
              "      <td>0.0</td>\n",
              "      <td>0.0</td>\n",
              "      <td>7.110790e+07</td>\n",
              "      <td>0.0</td>\n",
              "      <td>6.997804e+07</td>\n",
              "      <td>0.0</td>\n",
              "      <td>0.0</td>\n",
              "      <td>5.670157e+05</td>\n",
              "      <td>5.356332e+07</td>\n",
              "      <td>8.388026e+07</td>\n",
              "      <td>0.0</td>\n",
              "      <td>0.0</td>\n",
              "      <td>3.583296e+07</td>\n",
              "      <td>1.115463e+08</td>\n",
              "    </tr>\n",
              "    <tr>\n",
              "      <th>3</th>\n",
              "      <td>3</td>\n",
              "      <td>0.0</td>\n",
              "      <td>2.009876e+08</td>\n",
              "      <td>0.0</td>\n",
              "      <td>0.0</td>\n",
              "      <td>2.214679e+08</td>\n",
              "      <td>0.0</td>\n",
              "      <td>2.174101e+08</td>\n",
              "      <td>0.0</td>\n",
              "      <td>0.0</td>\n",
              "      <td>1.342720e+06</td>\n",
              "      <td>1.665389e+08</td>\n",
              "      <td>2.614420e+08</td>\n",
              "      <td>0.0</td>\n",
              "      <td>0.0</td>\n",
              "      <td>1.116514e+08</td>\n",
              "      <td>3.472892e+08</td>\n",
              "    </tr>\n",
              "    <tr>\n",
              "      <th>4</th>\n",
              "      <td>4</td>\n",
              "      <td>0.0</td>\n",
              "      <td>2.384675e+05</td>\n",
              "      <td>0.0</td>\n",
              "      <td>0.0</td>\n",
              "      <td>2.597246e+05</td>\n",
              "      <td>0.0</td>\n",
              "      <td>2.577884e+05</td>\n",
              "      <td>0.0</td>\n",
              "      <td>0.0</td>\n",
              "      <td>4.202993e+03</td>\n",
              "      <td>2.042845e+05</td>\n",
              "      <td>3.103489e+05</td>\n",
              "      <td>0.0</td>\n",
              "      <td>0.0</td>\n",
              "      <td>1.315073e+05</td>\n",
              "      <td>4.120424e+05</td>\n",
              "    </tr>\n",
              "  </tbody>\n",
              "</table>\n",
              "</div>"
            ],
            "text/plain": [
              "   Unnamed: 0    0             1    2  ...   12   13            14            15\n",
              "0           0  0.0  4.811244e+07  0.0  ...  0.0  0.0  2.670458e+07  8.313858e+07\n",
              "1           1  0.0  3.477977e+05  0.0  ...  0.0  0.0  1.915057e+05  6.009039e+05\n",
              "2           2  0.0  6.455196e+07  0.0  ...  0.0  0.0  3.583296e+07  1.115463e+08\n",
              "3           3  0.0  2.009876e+08  0.0  ...  0.0  0.0  1.116514e+08  3.472892e+08\n",
              "4           4  0.0  2.384675e+05  0.0  ...  0.0  0.0  1.315073e+05  4.120424e+05\n",
              "\n",
              "[5 rows x 17 columns]"
            ]
          },
          "metadata": {
            "tags": []
          },
          "execution_count": 5
        }
      ]
    },
    {
      "cell_type": "code",
      "metadata": {
        "id": "pnUUfwQSoKIr",
        "colab_type": "code",
        "colab": {
          "base_uri": "https://localhost:8080/",
          "height": 195
        },
        "outputId": "0c594e0a-8bbc-4790-d2da-9ae6562ce650"
      },
      "source": [
        "train1.rename(columns={'Unnamed: 0':'index'}, inplace=True)\n",
        "train1['index'] = train1['index'] + 1\n",
        "train1.head()"
      ],
      "execution_count": 6,
      "outputs": [
        {
          "output_type": "execute_result",
          "data": {
            "text/html": [
              "<div>\n",
              "<style scoped>\n",
              "    .dataframe tbody tr th:only-of-type {\n",
              "        vertical-align: middle;\n",
              "    }\n",
              "\n",
              "    .dataframe tbody tr th {\n",
              "        vertical-align: top;\n",
              "    }\n",
              "\n",
              "    .dataframe thead th {\n",
              "        text-align: right;\n",
              "    }\n",
              "</style>\n",
              "<table border=\"1\" class=\"dataframe\">\n",
              "  <thead>\n",
              "    <tr style=\"text-align: right;\">\n",
              "      <th></th>\n",
              "      <th>index</th>\n",
              "      <th>0</th>\n",
              "      <th>1</th>\n",
              "      <th>2</th>\n",
              "      <th>3</th>\n",
              "      <th>4</th>\n",
              "      <th>5</th>\n",
              "      <th>6</th>\n",
              "      <th>7</th>\n",
              "      <th>8</th>\n",
              "      <th>9</th>\n",
              "      <th>10</th>\n",
              "      <th>11</th>\n",
              "      <th>12</th>\n",
              "      <th>13</th>\n",
              "      <th>14</th>\n",
              "      <th>15</th>\n",
              "    </tr>\n",
              "  </thead>\n",
              "  <tbody>\n",
              "    <tr>\n",
              "      <th>0</th>\n",
              "      <td>1</td>\n",
              "      <td>0.0</td>\n",
              "      <td>4.811244e+07</td>\n",
              "      <td>0.0</td>\n",
              "      <td>0.0</td>\n",
              "      <td>5.298934e+07</td>\n",
              "      <td>0.0</td>\n",
              "      <td>5.215435e+07</td>\n",
              "      <td>0.0</td>\n",
              "      <td>0.0</td>\n",
              "      <td>4.293262e+05</td>\n",
              "      <td>3.994267e+07</td>\n",
              "      <td>6.251989e+07</td>\n",
              "      <td>0.0</td>\n",
              "      <td>0.0</td>\n",
              "      <td>2.670458e+07</td>\n",
              "      <td>8.313858e+07</td>\n",
              "    </tr>\n",
              "    <tr>\n",
              "      <th>1</th>\n",
              "      <td>2</td>\n",
              "      <td>0.0</td>\n",
              "      <td>3.477977e+05</td>\n",
              "      <td>0.0</td>\n",
              "      <td>0.0</td>\n",
              "      <td>3.777575e+05</td>\n",
              "      <td>0.0</td>\n",
              "      <td>3.757520e+05</td>\n",
              "      <td>0.0</td>\n",
              "      <td>0.0</td>\n",
              "      <td>6.889133e+03</td>\n",
              "      <td>3.001618e+05</td>\n",
              "      <td>4.527358e+05</td>\n",
              "      <td>0.0</td>\n",
              "      <td>0.0</td>\n",
              "      <td>1.915057e+05</td>\n",
              "      <td>6.009039e+05</td>\n",
              "    </tr>\n",
              "    <tr>\n",
              "      <th>2</th>\n",
              "      <td>3</td>\n",
              "      <td>0.0</td>\n",
              "      <td>6.455196e+07</td>\n",
              "      <td>0.0</td>\n",
              "      <td>0.0</td>\n",
              "      <td>7.110790e+07</td>\n",
              "      <td>0.0</td>\n",
              "      <td>6.997804e+07</td>\n",
              "      <td>0.0</td>\n",
              "      <td>0.0</td>\n",
              "      <td>5.670157e+05</td>\n",
              "      <td>5.356332e+07</td>\n",
              "      <td>8.388026e+07</td>\n",
              "      <td>0.0</td>\n",
              "      <td>0.0</td>\n",
              "      <td>3.583296e+07</td>\n",
              "      <td>1.115463e+08</td>\n",
              "    </tr>\n",
              "    <tr>\n",
              "      <th>3</th>\n",
              "      <td>4</td>\n",
              "      <td>0.0</td>\n",
              "      <td>2.009876e+08</td>\n",
              "      <td>0.0</td>\n",
              "      <td>0.0</td>\n",
              "      <td>2.214679e+08</td>\n",
              "      <td>0.0</td>\n",
              "      <td>2.174101e+08</td>\n",
              "      <td>0.0</td>\n",
              "      <td>0.0</td>\n",
              "      <td>1.342720e+06</td>\n",
              "      <td>1.665389e+08</td>\n",
              "      <td>2.614420e+08</td>\n",
              "      <td>0.0</td>\n",
              "      <td>0.0</td>\n",
              "      <td>1.116514e+08</td>\n",
              "      <td>3.472892e+08</td>\n",
              "    </tr>\n",
              "    <tr>\n",
              "      <th>4</th>\n",
              "      <td>5</td>\n",
              "      <td>0.0</td>\n",
              "      <td>2.384675e+05</td>\n",
              "      <td>0.0</td>\n",
              "      <td>0.0</td>\n",
              "      <td>2.597246e+05</td>\n",
              "      <td>0.0</td>\n",
              "      <td>2.577884e+05</td>\n",
              "      <td>0.0</td>\n",
              "      <td>0.0</td>\n",
              "      <td>4.202993e+03</td>\n",
              "      <td>2.042845e+05</td>\n",
              "      <td>3.103489e+05</td>\n",
              "      <td>0.0</td>\n",
              "      <td>0.0</td>\n",
              "      <td>1.315073e+05</td>\n",
              "      <td>4.120424e+05</td>\n",
              "    </tr>\n",
              "  </tbody>\n",
              "</table>\n",
              "</div>"
            ],
            "text/plain": [
              "   index    0             1    2  ...   12   13            14            15\n",
              "0      1  0.0  4.811244e+07  0.0  ...  0.0  0.0  2.670458e+07  8.313858e+07\n",
              "1      2  0.0  3.477977e+05  0.0  ...  0.0  0.0  1.915057e+05  6.009039e+05\n",
              "2      3  0.0  6.455196e+07  0.0  ...  0.0  0.0  3.583296e+07  1.115463e+08\n",
              "3      4  0.0  2.009876e+08  0.0  ...  0.0  0.0  1.116514e+08  3.472892e+08\n",
              "4      5  0.0  2.384675e+05  0.0  ...  0.0  0.0  1.315073e+05  4.120424e+05\n",
              "\n",
              "[5 rows x 17 columns]"
            ]
          },
          "metadata": {
            "tags": []
          },
          "execution_count": 6
        }
      ]
    },
    {
      "cell_type": "code",
      "metadata": {
        "id": "bw6-O0uQoOBt",
        "colab_type": "code",
        "colab": {
          "base_uri": "https://localhost:8080/",
          "height": 470
        },
        "outputId": "2311219a-1a56-4f1e-f456-214a16769702"
      },
      "source": [
        "train2.info()"
      ],
      "execution_count": 7,
      "outputs": [
        {
          "output_type": "stream",
          "text": [
            "<class 'pandas.core.frame.DataFrame'>\n",
            "RangeIndex: 96498 entries, 0 to 96497\n",
            "Data columns (total 20 columns):\n",
            " #   Column           Non-Null Count  Dtype  \n",
            "---  ------           --------------  -----  \n",
            " 0   Unnamed: 0       96498 non-null  int64  \n",
            " 1   txsize           96498 non-null  int64  \n",
            " 2   txvirtualsize    96498 non-null  int64  \n",
            " 3   txinputs_count   96498 non-null  int64  \n",
            " 4   txoutputs_count  96498 non-null  int64  \n",
            " 5   txinput_val      96498 non-null  float64\n",
            " 6   txoutput_val     96498 non-null  float64\n",
            " 7   txfee            96498 non-null  int64  \n",
            " 8   Min_received     96498 non-null  float64\n",
            " 9   Max_received     96498 non-null  float64\n",
            " 10  Avg_received     96498 non-null  float64\n",
            " 11  Total_received   96498 non-null  float64\n",
            " 12  Stdev_received   96498 non-null  float64\n",
            " 13  Var_received     96498 non-null  float64\n",
            " 14  Min_sent         96498 non-null  float64\n",
            " 15  Max_sent         96498 non-null  float64\n",
            " 16  Avg_sent         96498 non-null  float64\n",
            " 17  Total_sent       96498 non-null  float64\n",
            " 18  Stdev_sent       96498 non-null  float64\n",
            " 19  Var_sent         96498 non-null  float64\n",
            "dtypes: float64(14), int64(6)\n",
            "memory usage: 14.7 MB\n"
          ],
          "name": "stdout"
        }
      ]
    },
    {
      "cell_type": "code",
      "metadata": {
        "id": "uKEoEoImoZkv",
        "colab_type": "code",
        "colab": {
          "base_uri": "https://localhost:8080/",
          "height": 215
        },
        "outputId": "fb3c7ca2-6aca-432d-a133-5ea82e883dd1"
      },
      "source": [
        "train2.rename(columns={'Unnamed: 0':'index'}, inplace=True)\n",
        "train2.head()"
      ],
      "execution_count": 8,
      "outputs": [
        {
          "output_type": "execute_result",
          "data": {
            "text/html": [
              "<div>\n",
              "<style scoped>\n",
              "    .dataframe tbody tr th:only-of-type {\n",
              "        vertical-align: middle;\n",
              "    }\n",
              "\n",
              "    .dataframe tbody tr th {\n",
              "        vertical-align: top;\n",
              "    }\n",
              "\n",
              "    .dataframe thead th {\n",
              "        text-align: right;\n",
              "    }\n",
              "</style>\n",
              "<table border=\"1\" class=\"dataframe\">\n",
              "  <thead>\n",
              "    <tr style=\"text-align: right;\">\n",
              "      <th></th>\n",
              "      <th>index</th>\n",
              "      <th>txsize</th>\n",
              "      <th>txvirtualsize</th>\n",
              "      <th>txinputs_count</th>\n",
              "      <th>txoutputs_count</th>\n",
              "      <th>txinput_val</th>\n",
              "      <th>txoutput_val</th>\n",
              "      <th>txfee</th>\n",
              "      <th>Min_received</th>\n",
              "      <th>Max_received</th>\n",
              "      <th>Avg_received</th>\n",
              "      <th>Total_received</th>\n",
              "      <th>Stdev_received</th>\n",
              "      <th>Var_received</th>\n",
              "      <th>Min_sent</th>\n",
              "      <th>Max_sent</th>\n",
              "      <th>Avg_sent</th>\n",
              "      <th>Total_sent</th>\n",
              "      <th>Stdev_sent</th>\n",
              "      <th>Var_sent</th>\n",
              "    </tr>\n",
              "  </thead>\n",
              "  <tbody>\n",
              "    <tr>\n",
              "      <th>0</th>\n",
              "      <td>1</td>\n",
              "      <td>7369</td>\n",
              "      <td>7369</td>\n",
              "      <td>5</td>\n",
              "      <td>190</td>\n",
              "      <td>215000000.0</td>\n",
              "      <td>214600000.0</td>\n",
              "      <td>400000</td>\n",
              "      <td>0.0005</td>\n",
              "      <td>1.0000</td>\n",
              "      <td>0.011295</td>\n",
              "      <td>2.1460</td>\n",
              "      <td>0.081163</td>\n",
              "      <td>0.006587</td>\n",
              "      <td>0.0005</td>\n",
              "      <td>1.6700</td>\n",
              "      <td>0.4300</td>\n",
              "      <td>2.1500</td>\n",
              "      <td>0.703445</td>\n",
              "      <td>0.494835</td>\n",
              "    </tr>\n",
              "    <tr>\n",
              "      <th>1</th>\n",
              "      <td>2</td>\n",
              "      <td>293</td>\n",
              "      <td>293</td>\n",
              "      <td>1</td>\n",
              "      <td>3</td>\n",
              "      <td>4400000.0</td>\n",
              "      <td>4350000.0</td>\n",
              "      <td>50000</td>\n",
              "      <td>0.0010</td>\n",
              "      <td>0.0415</td>\n",
              "      <td>0.014500</td>\n",
              "      <td>0.0435</td>\n",
              "      <td>0.023383</td>\n",
              "      <td>0.000547</td>\n",
              "      <td>0.0440</td>\n",
              "      <td>0.0440</td>\n",
              "      <td>0.0440</td>\n",
              "      <td>0.0440</td>\n",
              "      <td>0.000000</td>\n",
              "      <td>0.000000</td>\n",
              "    </tr>\n",
              "    <tr>\n",
              "      <th>2</th>\n",
              "      <td>3</td>\n",
              "      <td>11139</td>\n",
              "      <td>11139</td>\n",
              "      <td>1</td>\n",
              "      <td>322</td>\n",
              "      <td>125000000.0</td>\n",
              "      <td>124400000.0</td>\n",
              "      <td>600000</td>\n",
              "      <td>0.0010</td>\n",
              "      <td>0.4460</td>\n",
              "      <td>0.003863</td>\n",
              "      <td>1.2440</td>\n",
              "      <td>0.024941</td>\n",
              "      <td>0.000622</td>\n",
              "      <td>1.2500</td>\n",
              "      <td>1.2500</td>\n",
              "      <td>1.2500</td>\n",
              "      <td>1.2500</td>\n",
              "      <td>0.000000</td>\n",
              "      <td>0.000000</td>\n",
              "    </tr>\n",
              "    <tr>\n",
              "      <th>3</th>\n",
              "      <td>4</td>\n",
              "      <td>495</td>\n",
              "      <td>495</td>\n",
              "      <td>1</td>\n",
              "      <td>9</td>\n",
              "      <td>27450000.0</td>\n",
              "      <td>27400000.0</td>\n",
              "      <td>50000</td>\n",
              "      <td>0.0010</td>\n",
              "      <td>0.2660</td>\n",
              "      <td>0.030444</td>\n",
              "      <td>0.2740</td>\n",
              "      <td>0.088333</td>\n",
              "      <td>0.007803</td>\n",
              "      <td>0.2745</td>\n",
              "      <td>0.2745</td>\n",
              "      <td>0.2745</td>\n",
              "      <td>0.2745</td>\n",
              "      <td>0.000000</td>\n",
              "      <td>0.000000</td>\n",
              "    </tr>\n",
              "    <tr>\n",
              "      <th>4</th>\n",
              "      <td>5</td>\n",
              "      <td>462</td>\n",
              "      <td>462</td>\n",
              "      <td>1</td>\n",
              "      <td>8</td>\n",
              "      <td>3000000.0</td>\n",
              "      <td>2950000.0</td>\n",
              "      <td>50000</td>\n",
              "      <td>0.0010</td>\n",
              "      <td>0.0225</td>\n",
              "      <td>0.003687</td>\n",
              "      <td>0.0295</td>\n",
              "      <td>0.007601</td>\n",
              "      <td>0.000058</td>\n",
              "      <td>0.0300</td>\n",
              "      <td>0.0300</td>\n",
              "      <td>0.0300</td>\n",
              "      <td>0.0300</td>\n",
              "      <td>0.000000</td>\n",
              "      <td>0.000000</td>\n",
              "    </tr>\n",
              "  </tbody>\n",
              "</table>\n",
              "</div>"
            ],
            "text/plain": [
              "   index  txsize  txvirtualsize  ...  Total_sent  Stdev_sent  Var_sent\n",
              "0      1    7369           7369  ...      2.1500    0.703445  0.494835\n",
              "1      2     293            293  ...      0.0440    0.000000  0.000000\n",
              "2      3   11139          11139  ...      1.2500    0.000000  0.000000\n",
              "3      4     495            495  ...      0.2745    0.000000  0.000000\n",
              "4      5     462            462  ...      0.0300    0.000000  0.000000\n",
              "\n",
              "[5 rows x 20 columns]"
            ]
          },
          "metadata": {
            "tags": []
          },
          "execution_count": 8
        }
      ]
    },
    {
      "cell_type": "code",
      "metadata": {
        "id": "UJ42kgURprKc",
        "colab_type": "code",
        "colab": {
          "base_uri": "https://localhost:8080/",
          "height": 168
        },
        "outputId": "716ff8e4-e13d-4113-adf0-78e99b5b289e"
      },
      "source": [
        "train3.info()"
      ],
      "execution_count": 9,
      "outputs": [
        {
          "output_type": "stream",
          "text": [
            "<class 'pandas.core.frame.DataFrame'>\n",
            "RangeIndex: 96498 entries, 0 to 96497\n",
            "Data columns (total 2 columns):\n",
            " #   Column      Non-Null Count  Dtype \n",
            "---  ------      --------------  ----- \n",
            " 0   Unnamed: 0  96498 non-null  int64 \n",
            " 1   label       96498 non-null  object\n",
            "dtypes: int64(1), object(1)\n",
            "memory usage: 1.5+ MB\n"
          ],
          "name": "stdout"
        }
      ]
    },
    {
      "cell_type": "code",
      "metadata": {
        "id": "B93DpP-GpzLp",
        "colab_type": "code",
        "colab": {
          "base_uri": "https://localhost:8080/",
          "height": 195
        },
        "outputId": "601bb010-7953-473d-8dbd-3808618945bb"
      },
      "source": [
        "train3.rename(columns={'Unnamed: 0':'index'}, inplace=True)\n",
        "train3.head()"
      ],
      "execution_count": 10,
      "outputs": [
        {
          "output_type": "execute_result",
          "data": {
            "text/html": [
              "<div>\n",
              "<style scoped>\n",
              "    .dataframe tbody tr th:only-of-type {\n",
              "        vertical-align: middle;\n",
              "    }\n",
              "\n",
              "    .dataframe tbody tr th {\n",
              "        vertical-align: top;\n",
              "    }\n",
              "\n",
              "    .dataframe thead th {\n",
              "        text-align: right;\n",
              "    }\n",
              "</style>\n",
              "<table border=\"1\" class=\"dataframe\">\n",
              "  <thead>\n",
              "    <tr style=\"text-align: right;\">\n",
              "      <th></th>\n",
              "      <th>index</th>\n",
              "      <th>label</th>\n",
              "    </tr>\n",
              "  </thead>\n",
              "  <tbody>\n",
              "    <tr>\n",
              "      <th>0</th>\n",
              "      <td>1</td>\n",
              "      <td>unclassified</td>\n",
              "    </tr>\n",
              "    <tr>\n",
              "      <th>1</th>\n",
              "      <td>2</td>\n",
              "      <td>donations</td>\n",
              "    </tr>\n",
              "    <tr>\n",
              "      <th>2</th>\n",
              "      <td>3</td>\n",
              "      <td>unclassified</td>\n",
              "    </tr>\n",
              "    <tr>\n",
              "      <th>3</th>\n",
              "      <td>4</td>\n",
              "      <td>donations</td>\n",
              "    </tr>\n",
              "    <tr>\n",
              "      <th>4</th>\n",
              "      <td>5</td>\n",
              "      <td>donations</td>\n",
              "    </tr>\n",
              "  </tbody>\n",
              "</table>\n",
              "</div>"
            ],
            "text/plain": [
              "   index         label\n",
              "0      1  unclassified\n",
              "1      2     donations\n",
              "2      3  unclassified\n",
              "3      4     donations\n",
              "4      5     donations"
            ]
          },
          "metadata": {
            "tags": []
          },
          "execution_count": 10
        }
      ]
    },
    {
      "cell_type": "code",
      "metadata": {
        "id": "TLdQxnUxp27T",
        "colab_type": "code",
        "colab": {}
      },
      "source": [
        "results = pd.merge(train3, train1, on='index', how='inner')\n",
        "\n",
        "# split data into X and y\n",
        "X = results.iloc[:,2:18]\n",
        "Y1 = results['label']"
      ],
      "execution_count": 11,
      "outputs": []
    },
    {
      "cell_type": "code",
      "metadata": {
        "id": "DUreMmyRqAAs",
        "colab_type": "code",
        "colab": {
          "base_uri": "https://localhost:8080/",
          "height": 402
        },
        "outputId": "07e5a3a9-e633-40bd-8176-3b2421c6a321"
      },
      "source": [
        "#from sklearn import preprocessing\n",
        "#le = preprocessing.LabelEncoder()\n",
        "#le.fit(results['label'].unique())\n",
        "Y_dummies = pd.get_dummies(Y1)\n",
        "#Y_tranform = le.transform(Y)\n",
        "#Y = pd.DataFrame(Y_transform)\n",
        "Y = Y_dummies\n",
        "Y"
      ],
      "execution_count": 12,
      "outputs": [
        {
          "output_type": "execute_result",
          "data": {
            "text/html": [
              "<div>\n",
              "<style scoped>\n",
              "    .dataframe tbody tr th:only-of-type {\n",
              "        vertical-align: middle;\n",
              "    }\n",
              "\n",
              "    .dataframe tbody tr th {\n",
              "        vertical-align: top;\n",
              "    }\n",
              "\n",
              "    .dataframe thead th {\n",
              "        text-align: right;\n",
              "    }\n",
              "</style>\n",
              "<table border=\"1\" class=\"dataframe\">\n",
              "  <thead>\n",
              "    <tr style=\"text-align: right;\">\n",
              "      <th></th>\n",
              "      <th>donations</th>\n",
              "      <th>exchange</th>\n",
              "      <th>mixer</th>\n",
              "      <th>paymentgateway</th>\n",
              "      <th>unclassified</th>\n",
              "      <th>wallets</th>\n",
              "    </tr>\n",
              "  </thead>\n",
              "  <tbody>\n",
              "    <tr>\n",
              "      <th>0</th>\n",
              "      <td>0</td>\n",
              "      <td>0</td>\n",
              "      <td>0</td>\n",
              "      <td>0</td>\n",
              "      <td>1</td>\n",
              "      <td>0</td>\n",
              "    </tr>\n",
              "    <tr>\n",
              "      <th>1</th>\n",
              "      <td>1</td>\n",
              "      <td>0</td>\n",
              "      <td>0</td>\n",
              "      <td>0</td>\n",
              "      <td>0</td>\n",
              "      <td>0</td>\n",
              "    </tr>\n",
              "    <tr>\n",
              "      <th>2</th>\n",
              "      <td>0</td>\n",
              "      <td>0</td>\n",
              "      <td>0</td>\n",
              "      <td>0</td>\n",
              "      <td>1</td>\n",
              "      <td>0</td>\n",
              "    </tr>\n",
              "    <tr>\n",
              "      <th>3</th>\n",
              "      <td>1</td>\n",
              "      <td>0</td>\n",
              "      <td>0</td>\n",
              "      <td>0</td>\n",
              "      <td>0</td>\n",
              "      <td>0</td>\n",
              "    </tr>\n",
              "    <tr>\n",
              "      <th>4</th>\n",
              "      <td>1</td>\n",
              "      <td>0</td>\n",
              "      <td>0</td>\n",
              "      <td>0</td>\n",
              "      <td>0</td>\n",
              "      <td>0</td>\n",
              "    </tr>\n",
              "    <tr>\n",
              "      <th>...</th>\n",
              "      <td>...</td>\n",
              "      <td>...</td>\n",
              "      <td>...</td>\n",
              "      <td>...</td>\n",
              "      <td>...</td>\n",
              "      <td>...</td>\n",
              "    </tr>\n",
              "    <tr>\n",
              "      <th>96493</th>\n",
              "      <td>1</td>\n",
              "      <td>0</td>\n",
              "      <td>0</td>\n",
              "      <td>0</td>\n",
              "      <td>0</td>\n",
              "      <td>0</td>\n",
              "    </tr>\n",
              "    <tr>\n",
              "      <th>96494</th>\n",
              "      <td>1</td>\n",
              "      <td>0</td>\n",
              "      <td>0</td>\n",
              "      <td>0</td>\n",
              "      <td>0</td>\n",
              "      <td>0</td>\n",
              "    </tr>\n",
              "    <tr>\n",
              "      <th>96495</th>\n",
              "      <td>1</td>\n",
              "      <td>0</td>\n",
              "      <td>0</td>\n",
              "      <td>0</td>\n",
              "      <td>0</td>\n",
              "      <td>0</td>\n",
              "    </tr>\n",
              "    <tr>\n",
              "      <th>96496</th>\n",
              "      <td>0</td>\n",
              "      <td>1</td>\n",
              "      <td>0</td>\n",
              "      <td>0</td>\n",
              "      <td>0</td>\n",
              "      <td>0</td>\n",
              "    </tr>\n",
              "    <tr>\n",
              "      <th>96497</th>\n",
              "      <td>0</td>\n",
              "      <td>1</td>\n",
              "      <td>0</td>\n",
              "      <td>0</td>\n",
              "      <td>0</td>\n",
              "      <td>0</td>\n",
              "    </tr>\n",
              "  </tbody>\n",
              "</table>\n",
              "<p>96498 rows × 6 columns</p>\n",
              "</div>"
            ],
            "text/plain": [
              "       donations  exchange  mixer  paymentgateway  unclassified  wallets\n",
              "0              0         0      0               0             1        0\n",
              "1              1         0      0               0             0        0\n",
              "2              0         0      0               0             1        0\n",
              "3              1         0      0               0             0        0\n",
              "4              1         0      0               0             0        0\n",
              "...          ...       ...    ...             ...           ...      ...\n",
              "96493          1         0      0               0             0        0\n",
              "96494          1         0      0               0             0        0\n",
              "96495          1         0      0               0             0        0\n",
              "96496          0         1      0               0             0        0\n",
              "96497          0         1      0               0             0        0\n",
              "\n",
              "[96498 rows x 6 columns]"
            ]
          },
          "metadata": {
            "tags": []
          },
          "execution_count": 12
        }
      ]
    },
    {
      "cell_type": "code",
      "metadata": {
        "id": "1lh4b1JUrOxJ",
        "colab_type": "code",
        "colab": {
          "base_uri": "https://localhost:8080/",
          "height": 118
        },
        "outputId": "a577eba5-40f7-445d-daa2-8dc76f37e4f0"
      },
      "source": [
        "seed = 7\n",
        "test_size = 0.4\n",
        "x_train, x_test, y_train, y_test = train_test_split(X, Y, test_size=test_size, random_state=seed)\n",
        "x_val, x_test, y_val, y_test = train_test_split(x_test, y_test, test_size= 0.5, random_state=seed)\n",
        "print(x_train.shape)\n",
        "print(x_val.shape)\n",
        "print(x_test.shape)\n",
        "print(y_train.shape)\n",
        "print(y_val.shape)\n",
        "print(y_test.shape)"
      ],
      "execution_count": 13,
      "outputs": [
        {
          "output_type": "stream",
          "text": [
            "(57898, 16)\n",
            "(19300, 16)\n",
            "(19300, 16)\n",
            "(57898, 6)\n",
            "(19300, 6)\n",
            "(19300, 6)\n"
          ],
          "name": "stdout"
        }
      ]
    },
    {
      "cell_type": "markdown",
      "metadata": {
        "id": "6XdyJqkhrtN1",
        "colab_type": "text"
      },
      "source": [
        "**Import models and empty sequential model**"
      ]
    },
    {
      "cell_type": "markdown",
      "metadata": {
        "id": "qbJMvDqvrxqB",
        "colab_type": "text"
      },
      "source": [
        "**Neural Network**"
      ]
    },
    {
      "cell_type": "code",
      "metadata": {
        "id": "3wKJRFHlroV6",
        "colab_type": "code",
        "colab": {}
      },
      "source": [
        "from keras import models\n",
        "from keras import layers\n",
        "nn=models.Sequential()"
      ],
      "execution_count": 14,
      "outputs": []
    },
    {
      "cell_type": "code",
      "metadata": {
        "id": "1vb_krLUr41f",
        "colab_type": "code",
        "colab": {}
      },
      "source": [
        "nn.add(layers.Dense(1024,activation = \"tanh\",input_shape=(16,))) \n",
        "nn.add(layers.Dense(512,activation=\"relu\"))\n",
        "nn.add(layers.Dense(256,activation=\"sigmoid\"))\n",
        "nn.add(layers.Dense(128,activation=\"tanh\"))\n",
        "nn.add(layers.Dense(64,activation=\"sigmoid\"))\n",
        "nn.add(layers.Dense(32,activation=\"relu\"))\n",
        "nn.add(layers.Dense(6,activation=\"softmax\"))"
      ],
      "execution_count": 15,
      "outputs": []
    },
    {
      "cell_type": "code",
      "metadata": {
        "id": "ekpBY2wqsG-C",
        "colab_type": "code",
        "colab": {
          "base_uri": "https://localhost:8080/",
          "height": 386
        },
        "outputId": "4771fb9c-0f5f-443d-ed93-6d5dcb063517"
      },
      "source": [
        "nn.summary()"
      ],
      "execution_count": 16,
      "outputs": [
        {
          "output_type": "stream",
          "text": [
            "Model: \"sequential\"\n",
            "_________________________________________________________________\n",
            "Layer (type)                 Output Shape              Param #   \n",
            "=================================================================\n",
            "dense (Dense)                (None, 1024)              17408     \n",
            "_________________________________________________________________\n",
            "dense_1 (Dense)              (None, 512)               524800    \n",
            "_________________________________________________________________\n",
            "dense_2 (Dense)              (None, 256)               131328    \n",
            "_________________________________________________________________\n",
            "dense_3 (Dense)              (None, 128)               32896     \n",
            "_________________________________________________________________\n",
            "dense_4 (Dense)              (None, 64)                8256      \n",
            "_________________________________________________________________\n",
            "dense_5 (Dense)              (None, 32)                2080      \n",
            "_________________________________________________________________\n",
            "dense_6 (Dense)              (None, 6)                 198       \n",
            "=================================================================\n",
            "Total params: 716,966\n",
            "Trainable params: 716,966\n",
            "Non-trainable params: 0\n",
            "_________________________________________________________________\n"
          ],
          "name": "stdout"
        }
      ]
    },
    {
      "cell_type": "code",
      "metadata": {
        "id": "mNdWz9ZbsJmX",
        "colab_type": "code",
        "colab": {}
      },
      "source": [
        "nn.compile(optimizer='sgd',\n",
        "           loss='categorical_crossentropy',\n",
        "           metrics=['accuracy'])"
      ],
      "execution_count": 17,
      "outputs": []
    },
    {
      "cell_type": "code",
      "metadata": {
        "id": "G_S9iWzrtCmt",
        "colab_type": "code",
        "colab": {
          "base_uri": "https://localhost:8080/",
          "height": 1000
        },
        "outputId": "1b2068ba-ef70-4331-8196-6b9d3e92c361"
      },
      "source": [
        "history = nn.fit(x_train, y_train,\n",
        "                 batch_size=128,\n",
        "                 epochs =100,\n",
        "                 validation_data=(x_val, y_val))"
      ],
      "execution_count": 18,
      "outputs": [
        {
          "output_type": "stream",
          "text": [
            "Epoch 1/100\n",
            "453/453 [==============================] - 1s 3ms/step - loss: 0.6484 - accuracy: 0.8314 - val_loss: 0.6243 - val_accuracy: 0.8347\n",
            "Epoch 2/100\n",
            "453/453 [==============================] - 1s 3ms/step - loss: 0.6135 - accuracy: 0.8331 - val_loss: 0.6022 - val_accuracy: 0.8347\n",
            "Epoch 3/100\n",
            "453/453 [==============================] - 1s 3ms/step - loss: 0.5858 - accuracy: 0.8393 - val_loss: 0.5731 - val_accuracy: 0.8559\n",
            "Epoch 4/100\n",
            "453/453 [==============================] - 1s 3ms/step - loss: 0.5661 - accuracy: 0.8620 - val_loss: 0.5617 - val_accuracy: 0.8660\n",
            "Epoch 5/100\n",
            "453/453 [==============================] - 1s 3ms/step - loss: 0.5607 - accuracy: 0.8644 - val_loss: 0.5588 - val_accuracy: 0.8658\n",
            "Epoch 6/100\n",
            "453/453 [==============================] - 1s 3ms/step - loss: 0.5590 - accuracy: 0.8643 - val_loss: 0.5576 - val_accuracy: 0.8659\n",
            "Epoch 7/100\n",
            "453/453 [==============================] - 1s 3ms/step - loss: 0.5577 - accuracy: 0.8643 - val_loss: 0.5569 - val_accuracy: 0.8657\n",
            "Epoch 8/100\n",
            "453/453 [==============================] - 1s 3ms/step - loss: 0.5569 - accuracy: 0.8642 - val_loss: 0.5563 - val_accuracy: 0.8658\n",
            "Epoch 9/100\n",
            "453/453 [==============================] - 1s 3ms/step - loss: 0.5561 - accuracy: 0.8643 - val_loss: 0.5555 - val_accuracy: 0.8656\n",
            "Epoch 10/100\n",
            "453/453 [==============================] - 1s 3ms/step - loss: 0.5554 - accuracy: 0.8642 - val_loss: 0.5552 - val_accuracy: 0.8656\n",
            "Epoch 11/100\n",
            "453/453 [==============================] - 1s 3ms/step - loss: 0.5548 - accuracy: 0.8642 - val_loss: 0.5578 - val_accuracy: 0.8655\n",
            "Epoch 12/100\n",
            "453/453 [==============================] - 1s 3ms/step - loss: 0.5542 - accuracy: 0.8642 - val_loss: 0.5539 - val_accuracy: 0.8656\n",
            "Epoch 13/100\n",
            "453/453 [==============================] - 1s 3ms/step - loss: 0.5538 - accuracy: 0.8641 - val_loss: 0.5536 - val_accuracy: 0.8656\n",
            "Epoch 14/100\n",
            "453/453 [==============================] - 1s 3ms/step - loss: 0.5533 - accuracy: 0.8642 - val_loss: 0.5534 - val_accuracy: 0.8656\n",
            "Epoch 15/100\n",
            "453/453 [==============================] - 1s 3ms/step - loss: 0.5529 - accuracy: 0.8641 - val_loss: 0.5537 - val_accuracy: 0.8655\n",
            "Epoch 16/100\n",
            "453/453 [==============================] - 1s 3ms/step - loss: 0.5527 - accuracy: 0.8641 - val_loss: 0.5526 - val_accuracy: 0.8656\n",
            "Epoch 17/100\n",
            "453/453 [==============================] - 1s 3ms/step - loss: 0.5522 - accuracy: 0.8641 - val_loss: 0.5521 - val_accuracy: 0.8655\n",
            "Epoch 18/100\n",
            "453/453 [==============================] - 1s 3ms/step - loss: 0.5517 - accuracy: 0.8640 - val_loss: 0.5514 - val_accuracy: 0.8656\n",
            "Epoch 19/100\n",
            "453/453 [==============================] - 1s 3ms/step - loss: 0.5515 - accuracy: 0.8641 - val_loss: 0.5513 - val_accuracy: 0.8655\n",
            "Epoch 20/100\n",
            "453/453 [==============================] - 1s 3ms/step - loss: 0.5512 - accuracy: 0.8640 - val_loss: 0.5512 - val_accuracy: 0.8655\n",
            "Epoch 21/100\n",
            "453/453 [==============================] - 1s 3ms/step - loss: 0.5511 - accuracy: 0.8641 - val_loss: 0.5514 - val_accuracy: 0.8655\n",
            "Epoch 22/100\n",
            "453/453 [==============================] - 1s 3ms/step - loss: 0.5508 - accuracy: 0.8641 - val_loss: 0.5506 - val_accuracy: 0.8655\n",
            "Epoch 23/100\n",
            "453/453 [==============================] - 1s 3ms/step - loss: 0.5504 - accuracy: 0.8640 - val_loss: 0.5510 - val_accuracy: 0.8655\n",
            "Epoch 24/100\n",
            "453/453 [==============================] - 1s 3ms/step - loss: 0.5502 - accuracy: 0.8640 - val_loss: 0.5501 - val_accuracy: 0.8655\n",
            "Epoch 25/100\n",
            "453/453 [==============================] - 1s 3ms/step - loss: 0.5500 - accuracy: 0.8640 - val_loss: 0.5524 - val_accuracy: 0.8655\n",
            "Epoch 26/100\n",
            "453/453 [==============================] - 1s 3ms/step - loss: 0.5499 - accuracy: 0.8641 - val_loss: 0.5668 - val_accuracy: 0.8656\n",
            "Epoch 27/100\n",
            "453/453 [==============================] - 1s 3ms/step - loss: 0.5497 - accuracy: 0.8641 - val_loss: 0.5503 - val_accuracy: 0.8655\n",
            "Epoch 28/100\n",
            "453/453 [==============================] - 1s 3ms/step - loss: 0.5497 - accuracy: 0.8640 - val_loss: 0.5574 - val_accuracy: 0.8660\n",
            "Epoch 29/100\n",
            "453/453 [==============================] - 1s 3ms/step - loss: 0.5493 - accuracy: 0.8641 - val_loss: 0.5493 - val_accuracy: 0.8656\n",
            "Epoch 30/100\n",
            "453/453 [==============================] - 1s 3ms/step - loss: 0.5490 - accuracy: 0.8641 - val_loss: 0.5488 - val_accuracy: 0.8656\n",
            "Epoch 31/100\n",
            "453/453 [==============================] - 1s 3ms/step - loss: 0.5488 - accuracy: 0.8642 - val_loss: 0.5489 - val_accuracy: 0.8657\n",
            "Epoch 32/100\n",
            "453/453 [==============================] - 1s 3ms/step - loss: 0.5487 - accuracy: 0.8642 - val_loss: 0.5490 - val_accuracy: 0.8655\n",
            "Epoch 33/100\n",
            "453/453 [==============================] - 1s 3ms/step - loss: 0.5485 - accuracy: 0.8642 - val_loss: 0.5482 - val_accuracy: 0.8658\n",
            "Epoch 34/100\n",
            "453/453 [==============================] - 1s 3ms/step - loss: 0.5481 - accuracy: 0.8642 - val_loss: 0.5669 - val_accuracy: 0.8652\n",
            "Epoch 35/100\n",
            "453/453 [==============================] - 1s 3ms/step - loss: 0.5478 - accuracy: 0.8642 - val_loss: 0.5567 - val_accuracy: 0.8655\n",
            "Epoch 36/100\n",
            "453/453 [==============================] - 1s 3ms/step - loss: 0.5480 - accuracy: 0.8643 - val_loss: 0.5478 - val_accuracy: 0.8660\n",
            "Epoch 37/100\n",
            "453/453 [==============================] - 1s 3ms/step - loss: 0.5476 - accuracy: 0.8642 - val_loss: 0.5479 - val_accuracy: 0.8660\n",
            "Epoch 38/100\n",
            "453/453 [==============================] - 1s 3ms/step - loss: 0.5475 - accuracy: 0.8643 - val_loss: 0.5481 - val_accuracy: 0.8658\n",
            "Epoch 39/100\n",
            "453/453 [==============================] - 1s 3ms/step - loss: 0.5472 - accuracy: 0.8641 - val_loss: 0.5476 - val_accuracy: 0.8661\n",
            "Epoch 40/100\n",
            "453/453 [==============================] - 1s 3ms/step - loss: 0.5469 - accuracy: 0.8643 - val_loss: 0.5483 - val_accuracy: 0.8663\n",
            "Epoch 41/100\n",
            "453/453 [==============================] - 1s 3ms/step - loss: 0.5469 - accuracy: 0.8643 - val_loss: 0.5489 - val_accuracy: 0.8663\n",
            "Epoch 42/100\n",
            "453/453 [==============================] - 1s 3ms/step - loss: 0.5466 - accuracy: 0.8644 - val_loss: 0.5469 - val_accuracy: 0.8660\n",
            "Epoch 43/100\n",
            "453/453 [==============================] - 1s 3ms/step - loss: 0.5466 - accuracy: 0.8643 - val_loss: 0.5470 - val_accuracy: 0.8659\n",
            "Epoch 44/100\n",
            "453/453 [==============================] - 1s 3ms/step - loss: 0.5464 - accuracy: 0.8644 - val_loss: 0.5464 - val_accuracy: 0.8661\n",
            "Epoch 45/100\n",
            "453/453 [==============================] - 1s 3ms/step - loss: 0.5462 - accuracy: 0.8643 - val_loss: 0.5472 - val_accuracy: 0.8661\n",
            "Epoch 46/100\n",
            "453/453 [==============================] - 1s 3ms/step - loss: 0.5461 - accuracy: 0.8644 - val_loss: 0.5491 - val_accuracy: 0.8656\n",
            "Epoch 47/100\n",
            "453/453 [==============================] - 1s 3ms/step - loss: 0.5458 - accuracy: 0.8642 - val_loss: 0.5458 - val_accuracy: 0.8662\n",
            "Epoch 48/100\n",
            "453/453 [==============================] - 1s 3ms/step - loss: 0.5459 - accuracy: 0.8643 - val_loss: 0.5497 - val_accuracy: 0.8663\n",
            "Epoch 49/100\n",
            "453/453 [==============================] - 1s 3ms/step - loss: 0.5455 - accuracy: 0.8646 - val_loss: 0.5457 - val_accuracy: 0.8663\n",
            "Epoch 50/100\n",
            "453/453 [==============================] - 1s 3ms/step - loss: 0.5456 - accuracy: 0.8645 - val_loss: 0.5476 - val_accuracy: 0.8664\n",
            "Epoch 51/100\n",
            "453/453 [==============================] - 1s 3ms/step - loss: 0.5455 - accuracy: 0.8643 - val_loss: 0.5468 - val_accuracy: 0.8663\n",
            "Epoch 52/100\n",
            "453/453 [==============================] - 1s 3ms/step - loss: 0.5454 - accuracy: 0.8646 - val_loss: 0.5456 - val_accuracy: 0.8658\n",
            "Epoch 53/100\n",
            "453/453 [==============================] - 1s 3ms/step - loss: 0.5452 - accuracy: 0.8646 - val_loss: 0.5466 - val_accuracy: 0.8668\n",
            "Epoch 54/100\n",
            "453/453 [==============================] - 1s 3ms/step - loss: 0.5450 - accuracy: 0.8645 - val_loss: 0.5482 - val_accuracy: 0.8656\n",
            "Epoch 55/100\n",
            "453/453 [==============================] - 1s 3ms/step - loss: 0.5452 - accuracy: 0.8649 - val_loss: 0.5477 - val_accuracy: 0.8664\n",
            "Epoch 56/100\n",
            "453/453 [==============================] - 1s 3ms/step - loss: 0.5451 - accuracy: 0.8647 - val_loss: 0.5453 - val_accuracy: 0.8664\n",
            "Epoch 57/100\n",
            "453/453 [==============================] - 1s 3ms/step - loss: 0.5448 - accuracy: 0.8654 - val_loss: 0.5505 - val_accuracy: 0.8656\n",
            "Epoch 58/100\n",
            "453/453 [==============================] - 1s 3ms/step - loss: 0.5448 - accuracy: 0.8652 - val_loss: 0.5455 - val_accuracy: 0.8678\n",
            "Epoch 59/100\n",
            "453/453 [==============================] - 1s 3ms/step - loss: 0.5446 - accuracy: 0.8652 - val_loss: 0.5446 - val_accuracy: 0.8662\n",
            "Epoch 60/100\n",
            "453/453 [==============================] - 1s 3ms/step - loss: 0.5448 - accuracy: 0.8652 - val_loss: 0.5446 - val_accuracy: 0.8663\n",
            "Epoch 61/100\n",
            "453/453 [==============================] - 1s 3ms/step - loss: 0.5444 - accuracy: 0.8654 - val_loss: 0.5473 - val_accuracy: 0.8663\n",
            "Epoch 62/100\n",
            "453/453 [==============================] - 1s 3ms/step - loss: 0.5441 - accuracy: 0.8653 - val_loss: 0.5483 - val_accuracy: 0.8657\n",
            "Epoch 63/100\n",
            "453/453 [==============================] - 1s 3ms/step - loss: 0.5442 - accuracy: 0.8659 - val_loss: 0.5464 - val_accuracy: 0.8663\n",
            "Epoch 64/100\n",
            "453/453 [==============================] - 1s 3ms/step - loss: 0.5442 - accuracy: 0.8658 - val_loss: 0.5446 - val_accuracy: 0.8663\n",
            "Epoch 65/100\n",
            "453/453 [==============================] - 1s 3ms/step - loss: 0.5440 - accuracy: 0.8657 - val_loss: 0.5441 - val_accuracy: 0.8678\n",
            "Epoch 66/100\n",
            "453/453 [==============================] - 1s 3ms/step - loss: 0.5438 - accuracy: 0.8658 - val_loss: 0.5462 - val_accuracy: 0.8662\n",
            "Epoch 67/100\n",
            "453/453 [==============================] - 1s 3ms/step - loss: 0.5437 - accuracy: 0.8658 - val_loss: 0.5475 - val_accuracy: 0.8662\n",
            "Epoch 68/100\n",
            "453/453 [==============================] - 1s 3ms/step - loss: 0.5439 - accuracy: 0.8659 - val_loss: 0.5447 - val_accuracy: 0.8663\n",
            "Epoch 69/100\n",
            "453/453 [==============================] - 1s 3ms/step - loss: 0.5435 - accuracy: 0.8656 - val_loss: 0.5495 - val_accuracy: 0.8665\n",
            "Epoch 70/100\n",
            "453/453 [==============================] - 1s 3ms/step - loss: 0.5436 - accuracy: 0.8661 - val_loss: 0.5459 - val_accuracy: 0.8672\n",
            "Epoch 71/100\n",
            "453/453 [==============================] - 1s 3ms/step - loss: 0.5434 - accuracy: 0.8661 - val_loss: 0.5444 - val_accuracy: 0.8675\n",
            "Epoch 72/100\n",
            "453/453 [==============================] - 1s 3ms/step - loss: 0.5434 - accuracy: 0.8662 - val_loss: 0.5465 - val_accuracy: 0.8664\n",
            "Epoch 73/100\n",
            "453/453 [==============================] - 1s 3ms/step - loss: 0.5430 - accuracy: 0.8663 - val_loss: 0.5446 - val_accuracy: 0.8674\n",
            "Epoch 74/100\n",
            "453/453 [==============================] - 1s 3ms/step - loss: 0.5431 - accuracy: 0.8661 - val_loss: 0.5500 - val_accuracy: 0.8660\n",
            "Epoch 75/100\n",
            "453/453 [==============================] - 1s 3ms/step - loss: 0.5431 - accuracy: 0.8664 - val_loss: 0.5467 - val_accuracy: 0.8664\n",
            "Epoch 76/100\n",
            "453/453 [==============================] - 1s 3ms/step - loss: 0.5430 - accuracy: 0.8663 - val_loss: 0.5437 - val_accuracy: 0.8678\n",
            "Epoch 77/100\n",
            "453/453 [==============================] - 1s 3ms/step - loss: 0.5428 - accuracy: 0.8668 - val_loss: 0.5440 - val_accuracy: 0.8664\n",
            "Epoch 78/100\n",
            "453/453 [==============================] - 1s 3ms/step - loss: 0.5428 - accuracy: 0.8663 - val_loss: 0.5438 - val_accuracy: 0.8664\n",
            "Epoch 79/100\n",
            "453/453 [==============================] - 1s 3ms/step - loss: 0.5427 - accuracy: 0.8667 - val_loss: 0.5443 - val_accuracy: 0.8667\n",
            "Epoch 80/100\n",
            "453/453 [==============================] - 1s 3ms/step - loss: 0.5428 - accuracy: 0.8667 - val_loss: 0.5433 - val_accuracy: 0.8677\n",
            "Epoch 81/100\n",
            "453/453 [==============================] - 1s 3ms/step - loss: 0.5428 - accuracy: 0.8662 - val_loss: 0.5437 - val_accuracy: 0.8677\n",
            "Epoch 82/100\n",
            "453/453 [==============================] - 1s 3ms/step - loss: 0.5427 - accuracy: 0.8667 - val_loss: 0.5471 - val_accuracy: 0.8670\n",
            "Epoch 83/100\n",
            "453/453 [==============================] - 1s 3ms/step - loss: 0.5427 - accuracy: 0.8665 - val_loss: 0.5439 - val_accuracy: 0.8670\n",
            "Epoch 84/100\n",
            "453/453 [==============================] - 1s 3ms/step - loss: 0.5423 - accuracy: 0.8667 - val_loss: 0.5432 - val_accuracy: 0.8679\n",
            "Epoch 85/100\n",
            "453/453 [==============================] - 1s 3ms/step - loss: 0.5425 - accuracy: 0.8667 - val_loss: 0.5444 - val_accuracy: 0.8664\n",
            "Epoch 86/100\n",
            "453/453 [==============================] - 1s 3ms/step - loss: 0.5425 - accuracy: 0.8668 - val_loss: 0.5435 - val_accuracy: 0.8676\n",
            "Epoch 87/100\n",
            "453/453 [==============================] - 1s 3ms/step - loss: 0.5422 - accuracy: 0.8669 - val_loss: 0.5481 - val_accuracy: 0.8668\n",
            "Epoch 88/100\n",
            "453/453 [==============================] - 1s 3ms/step - loss: 0.5425 - accuracy: 0.8669 - val_loss: 0.5451 - val_accuracy: 0.8668\n",
            "Epoch 89/100\n",
            "453/453 [==============================] - 1s 3ms/step - loss: 0.5420 - accuracy: 0.8668 - val_loss: 0.5446 - val_accuracy: 0.8670\n",
            "Epoch 90/100\n",
            "453/453 [==============================] - 1s 3ms/step - loss: 0.5418 - accuracy: 0.8667 - val_loss: 0.5486 - val_accuracy: 0.8671\n",
            "Epoch 91/100\n",
            "453/453 [==============================] - 1s 3ms/step - loss: 0.5420 - accuracy: 0.8671 - val_loss: 0.5529 - val_accuracy: 0.8660\n",
            "Epoch 92/100\n",
            "453/453 [==============================] - 1s 3ms/step - loss: 0.5420 - accuracy: 0.8671 - val_loss: 0.5437 - val_accuracy: 0.8669\n",
            "Epoch 93/100\n",
            "453/453 [==============================] - 1s 3ms/step - loss: 0.5420 - accuracy: 0.8669 - val_loss: 0.5425 - val_accuracy: 0.8682\n",
            "Epoch 94/100\n",
            "453/453 [==============================] - 1s 3ms/step - loss: 0.5421 - accuracy: 0.8669 - val_loss: 0.5493 - val_accuracy: 0.8661\n",
            "Epoch 95/100\n",
            "453/453 [==============================] - 1s 3ms/step - loss: 0.5415 - accuracy: 0.8673 - val_loss: 0.5438 - val_accuracy: 0.8675\n",
            "Epoch 96/100\n",
            "453/453 [==============================] - 1s 3ms/step - loss: 0.5418 - accuracy: 0.8675 - val_loss: 0.5427 - val_accuracy: 0.8687\n",
            "Epoch 97/100\n",
            "453/453 [==============================] - 1s 3ms/step - loss: 0.5417 - accuracy: 0.8674 - val_loss: 0.5430 - val_accuracy: 0.8688\n",
            "Epoch 98/100\n",
            "453/453 [==============================] - 1s 3ms/step - loss: 0.5415 - accuracy: 0.8670 - val_loss: 0.5430 - val_accuracy: 0.8684\n",
            "Epoch 99/100\n",
            "453/453 [==============================] - 1s 3ms/step - loss: 0.5416 - accuracy: 0.8672 - val_loss: 0.5440 - val_accuracy: 0.8677\n",
            "Epoch 100/100\n",
            "453/453 [==============================] - 1s 3ms/step - loss: 0.5417 - accuracy: 0.8672 - val_loss: 0.5438 - val_accuracy: 0.8681\n"
          ],
          "name": "stdout"
        }
      ]
    },
    {
      "cell_type": "markdown",
      "metadata": {
        "id": "O-Qw7cSaurEi",
        "colab_type": "text"
      },
      "source": [
        "**Plot accuracy vs validation acc and loss vs validation loss during epochs**"
      ]
    },
    {
      "cell_type": "code",
      "metadata": {
        "id": "6utJhtuntJTe",
        "colab_type": "code",
        "colab": {
          "base_uri": "https://localhost:8080/",
          "height": 295
        },
        "outputId": "f03afc0e-f4ad-4578-92ee-ab42e40fddf8"
      },
      "source": [
        "loss_train = history.history['loss']\n",
        "loss_val = history.history['val_loss']\n",
        "epochs = range(1,101)\n",
        "plt.plot(epochs, loss_train, 'g', label='Training loss')\n",
        "plt.plot(epochs, loss_val, 'b', label='validation loss')\n",
        "plt.title('Training and Validation loss')\n",
        "plt.xlabel('Epochs')\n",
        "plt.ylabel('Loss')\n",
        "plt.legend()\n",
        "plt.show()"
      ],
      "execution_count": 20,
      "outputs": [
        {
          "output_type": "display_data",
          "data": {
            "image/png": "[encoded data removed]",
            "text/plain": [
              "<Figure size 432x288 with 1 Axes>"
            ]
          },
          "metadata": {
            "tags": [],
            "needs_background": "light"
          }
        }
      ]
    },
    {
      "cell_type": "code",
      "metadata": {
        "id": "t0xSanDYuzd0",
        "colab_type": "code",
        "colab": {
          "base_uri": "https://localhost:8080/",
          "height": 295
        },
        "outputId": "d495f25a-8132-4059-c5b6-f31395b6a4c8"
      },
      "source": [
        "loss_train = history.history['accuracy']\n",
        "loss_val = history.history['val_accuracy']\n",
        "epochs = range(1,101)\n",
        "plt.plot(epochs, loss_train, 'g', label='Training accuracy')\n",
        "plt.plot(epochs, loss_val, 'b', label='validation accuracy')\n",
        "plt.title('Training and Validation accuracy')\n",
        "plt.xlabel('Epochs')\n",
        "plt.ylabel('Accuracy')\n",
        "plt.legend()\n",
        "plt.show()"
      ],
      "execution_count": 21,
      "outputs": [
        {
          "output_type": "display_data",
          "data": {
            "image/png": "[encoded data removed]",
            "text/plain": [
              "<Figure size 432x288 with 1 Axes>"
            ]
          },
          "metadata": {
            "tags": [],
            "needs_background": "light"
          }
        }
      ]
    },
    {
      "cell_type": "code",
      "metadata": {
        "id": "_IDGcv3iu6_m",
        "colab_type": "code",
        "colab": {
          "base_uri": "https://localhost:8080/",
          "height": 118
        },
        "outputId": "4996a78f-9f12-43b7-b1bc-e9b5022f6518"
      },
      "source": [
        "train_loss,train_accuracy = nn.evaluate(x_train,y_train)\n",
        "val_loss,val_accuracy = nn.evaluate(x_val,y_val)\n",
        "test_loss,test_accuracy = nn.evaluate(x_test,y_test)\n",
        "print('Training Accuracy : ',train_accuracy)\n",
        "print('Val Accuracy : ',val_accuracy)\n",
        "print('Test Accuracy : ',test_accuracy)"
      ],
      "execution_count": 22,
      "outputs": [
        {
          "output_type": "stream",
          "text": [
            "1810/1810 [==============================] - 3s 2ms/step - loss: 0.5414 - accuracy: 0.8675\n",
            "604/604 [==============================] - 1s 2ms/step - loss: 0.5438 - accuracy: 0.8681\n",
            "604/604 [==============================] - 1s 2ms/step - loss: 0.5424 - accuracy: 0.8677\n",
            "Training Accuracy :  0.8674565553665161\n",
            "Val Accuracy :  0.8681347370147705\n",
            "Test Accuracy :  0.8677201867103577\n"
          ],
          "name": "stdout"
        }
      ]
    }
  ]
}